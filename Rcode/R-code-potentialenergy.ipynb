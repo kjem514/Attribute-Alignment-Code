{
 "cells": [
  {
   "cell_type": "markdown",
   "metadata": {},
   "source": [
    "# R code for computing the potential energy alignment\n",
    "\n",
    "This function accepts in a data frame as well as the \"noise\" parameter $\\sigma$.\n",
    "\n",
    "We assume that the data frame `df` contains $d$ team members, each of which has $a$ attribute values (so that `dim(df) = (d, a)`)."
   ]
  },
  {
   "cell_type": "code",
   "execution_count": 1,
   "metadata": {},
   "outputs": [],
   "source": [
    "# R Code for Computing Potential Energy Attribute Alignment\n",
    "# This assumes that the data_frame is of the form\n",
    "# data_frame = data.frame(\n",
    "#    att_1 = c(1, 2, 3),\n",
    "#    att_2 = c(4, 5, 6),\n",
    "#    att_3 = c(7, 8, 9),\n",
    "#    att_4 = c(10, 11, 12)\n",
    "#)\n",
    "# This example has `a=4` attributes, `d=3` team members and data_frame[2, 3] == 8\n",
    "# Generally, data_frame[i, j] holds the jth team member's ith attribute value\n",
    "#    \n",
    "# sigma is the sense of uncertainty/noise associated with observations.\n",
    "# It allows us to avoid an infinite amount of alignment.\n",
    "# If the attribute values are integers, setting this to .5 is logical.\n",
    "global_alignment = function(data_frame, sigma = .5){\n",
    "    sigma = max(sigma, 1e-8)\n",
    "    temp = dim(data_frame)\n",
    "    d = temp[1]\n",
    "    a = temp[2]\n",
    "    \n",
    "    nu_a = a * (a - 1) / 2\n",
    "    tau_d = gamma((d + 1) / 2) / gamma(d / 2)\n",
    "    minimum_distance = sigma * tau_d\n",
    "    \n",
    "    pairwise_distances = dist(t(data_frame))\n",
    "    stopifnot(nu_a == length(pairwise_distances))\n",
    "    \n",
    "    pairwise_distances_with_lower_limit = pmax(\n",
    "        pairwise_distances,\n",
    "        minimum_distance\n",
    "    )\n",
    "    return(\n",
    "        minimum_distance / nu_a *\n",
    "        sum(1 / pairwise_distances_with_lower_limit)\n",
    "    )\n",
    "}"
   ]
  },
  {
   "cell_type": "markdown",
   "metadata": {},
   "source": [
    "### Small examples\n",
    "\n",
    "In the first example, 3 team members each have 4 attributes.  All of the attribute vectors take very different values (varying in magnitude between 1 and 12).\n",
    "\n",
    "In the second example, still 3 team members and 4 attributes.  But the three team members have identical values for the first and second attributes, varying only in the third.  As a result there is much greater alignment with the second team than the first (as evidenced by the higher alignment value)."
   ]
  },
  {
   "cell_type": "code",
   "execution_count": 2,
   "metadata": {},
   "outputs": [
    {
     "data": {
      "text/html": [
       "0.0784176870955304"
      ],
      "text/latex": [
       "0.0784176870955304"
      ],
      "text/markdown": [
       "0.0784176870955304"
      ],
      "text/plain": [
       "[1] 0.07841769"
      ]
     },
     "metadata": {},
     "output_type": "display_data"
    }
   ],
   "source": [
    "data_frame = data.frame(\n",
    "    att_1 = c(1, 2, 3),\n",
    "    att_2 = c(4, 5, 6),\n",
    "    att_3 = c(7, 8, 9),\n",
    "    att_4 = c(10, 11, 12)\n",
    ")\n",
    "global_alignment(data_frame, .5)"
   ]
  },
  {
   "cell_type": "code",
   "execution_count": 4,
   "metadata": {},
   "outputs": [
    {
     "data": {
      "text/html": [
       "0.407470254784491"
      ],
      "text/latex": [
       "0.407470254784491"
      ],
      "text/markdown": [
       "0.407470254784491"
      ],
      "text/plain": [
       "[1] 0.4074703"
      ]
     },
     "metadata": {},
     "output_type": "display_data"
    }
   ],
   "source": [
    "data_frame = data.frame(\n",
    "    att_1 = c(1, 2, 3),\n",
    "    att_2 = c(1, 2, 4),\n",
    "    att_3 = c(1, 2, 5),\n",
    "    att_4 = c(1, 2, 6)\n",
    ")\n",
    "global_alignment(data_frame, .5)"
   ]
  }
 ],
 "metadata": {
  "kernelspec": {
   "display_name": "R",
   "language": "R",
   "name": "r"
  },
  "language_info": {
   "codemirror_mode": "r",
   "file_extension": ".r",
   "mimetype": "text/x-r-source",
   "name": "R",
   "pygments_lexer": "r",
   "version": "4.2.2"
  }
 },
 "nbformat": 4,
 "nbformat_minor": 4
}
